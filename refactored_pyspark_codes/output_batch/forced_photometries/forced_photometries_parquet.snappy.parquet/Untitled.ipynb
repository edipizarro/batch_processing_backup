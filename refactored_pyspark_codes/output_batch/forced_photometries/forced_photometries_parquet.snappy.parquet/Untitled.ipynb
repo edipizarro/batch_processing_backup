{
 "cells": [
  {
   "cell_type": "code",
   "execution_count": 1,
   "id": "5fcf48ad",
   "metadata": {},
   "outputs": [],
   "source": [
    "import polars"
   ]
  },
  {
   "cell_type": "code",
   "execution_count": 2,
   "id": "135071f6",
   "metadata": {},
   "outputs": [
    {
     "name": "stdout",
     "output_type": "stream",
     "text": [
      "part-00000-fa5944cd-db67-4568-956e-cb9b4395aba7-c000.snappy.parquet\r\n",
      "_SUCCESS\r\n",
      "Untitled.ipynb\r\n"
     ]
    }
   ],
   "source": [
    "!ls"
   ]
  },
  {
   "cell_type": "code",
   "execution_count": 3,
   "id": "4dd889d7",
   "metadata": {},
   "outputs": [],
   "source": [
    "df = polars.read_parquet('part-00000-fa5944cd-db67-4568-956e-cb9b4395aba7-c000.snappy.parquet')"
   ]
  },
  {
   "cell_type": "code",
   "execution_count": 4,
   "id": "53043fe9",
   "metadata": {},
   "outputs": [
    {
     "data": {
      "text/html": [
       "<div><style>\n",
       ".dataframe > thead > tr,\n",
       ".dataframe > tbody > tr {\n",
       "  text-align: right;\n",
       "  white-space: pre-wrap;\n",
       "}\n",
       "</style>\n",
       "<small>shape: (0, 48)</small><table border=\"1\" class=\"dataframe\"><thead><tr><th>adpctdif1</th><th>adpctdif2</th><th>aid</th><th>candid</th><th>chinr</th><th>clrcoeff</th><th>clrcounc</th><th>dec</th><th>decnr</th><th>diffmaglim</th><th>distnr</th><th>e_dec</th><th>e_mag</th><th>e_ra</th><th>exptime</th><th>fid</th><th>field</th><th>forced</th><th>forcediffimflux</th><th>forcediffimfluxunc</th><th>has_stamp</th><th>isdiffpos</th><th>mag</th><th>magnr</th><th>magzpsci</th><th>magzpscirms</th><th>magzpsciunc</th><th>mjd</th><th>mjd_alert</th><th>oid</th><th>parent_candid</th><th>parsed_fid</th><th>pid</th><th>procstatus</th><th>programid</th><th>ra</th><th>ranr</th><th>rcid</th><th>rfid</th><th>scibckgnd</th><th>sciinpseeing</th><th>scisigpix</th><th>sharpnr</th><th>sid</th><th>sigmagnr</th><th>tid</th><th>unparsed_jd</th><th>is_first_corrected</th></tr><tr><td>f64</td><td>f64</td><td>str</td><td>str</td><td>f64</td><td>f64</td><td>f64</td><td>f64</td><td>f64</td><td>f64</td><td>f64</td><td>i32</td><td>f64</td><td>i32</td><td>f64</td><td>i64</td><td>i64</td><td>bool</td><td>f64</td><td>f64</td><td>bool</td><td>i32</td><td>f64</td><td>f64</td><td>f64</td><td>f64</td><td>f64</td><td>f64</td><td>f64</td><td>str</td><td>str</td><td>str</td><td>i64</td><td>str</td><td>i64</td><td>f64</td><td>f64</td><td>i64</td><td>i64</td><td>f64</td><td>f64</td><td>f64</td><td>f64</td><td>str</td><td>f64</td><td>str</td><td>f64</td><td>bool</td></tr></thead><tbody></tbody></table></div>"
      ],
      "text/plain": [
       "shape: (0, 48)\n",
       "┌───────────┬───────────┬─────┬────────┬───┬──────────┬─────┬─────────────┬────────────────────┐\n",
       "│ adpctdif1 ┆ adpctdif2 ┆ aid ┆ candid ┆ … ┆ sigmagnr ┆ tid ┆ unparsed_jd ┆ is_first_corrected │\n",
       "│ ---       ┆ ---       ┆ --- ┆ ---    ┆   ┆ ---      ┆ --- ┆ ---         ┆ ---                │\n",
       "│ f64       ┆ f64       ┆ str ┆ str    ┆   ┆ f64      ┆ str ┆ f64         ┆ bool               │\n",
       "╞═══════════╪═══════════╪═════╪════════╪═══╪══════════╪═════╪═════════════╪════════════════════╡\n",
       "└───────────┴───────────┴─────┴────────┴───┴──────────┴─────┴─────────────┴────────────────────┘"
      ]
     },
     "execution_count": 4,
     "metadata": {},
     "output_type": "execute_result"
    }
   ],
   "source": [
    "df"
   ]
  },
  {
   "cell_type": "code",
   "execution_count": null,
   "id": "6464f487",
   "metadata": {},
   "outputs": [],
   "source": []
  }
 ],
 "metadata": {
  "kernelspec": {
   "display_name": "Python 3 (ipykernel)",
   "language": "python",
   "name": "python3"
  },
  "language_info": {
   "codemirror_mode": {
    "name": "ipython",
    "version": 3
   },
   "file_extension": ".py",
   "mimetype": "text/x-python",
   "name": "python",
   "nbconvert_exporter": "python",
   "pygments_lexer": "ipython3",
   "version": "3.12.3"
  }
 },
 "nbformat": 4,
 "nbformat_minor": 5
}
